{
 "cells": [
  {
   "cell_type": "markdown",
   "id": "51a6faff",
   "metadata": {},
   "source": [
    "# Exploração dos dados - Formula 1"
   ]
  },
  {
   "cell_type": "code",
   "execution_count": 1,
   "id": "3aec9cda",
   "metadata": {},
   "outputs": [],
   "source": [
    "import pandas as pd"
   ]
  },
  {
   "cell_type": "code",
   "execution_count": 2,
   "id": "99180be3",
   "metadata": {},
   "outputs": [],
   "source": [
    "CIRCUITS_CSV = 'circuits.csv'\n",
    "CONSTRUCTORS = 'constructors.csv'\n",
    "DRIVERS = 'drivers.csv'\n",
    "RACES = 'races.csv'"
   ]
  },
  {
   "cell_type": "markdown",
   "id": "e08cc9e3",
   "metadata": {},
   "source": [
    "## dataset de pilotos"
   ]
  },
  {
   "cell_type": "markdown",
   "id": "695d04d9",
   "metadata": {},
   "source": [
    "### Perguntas\n",
    "\n",
    "* Qual a nacionalidade mais frequente?\n",
    "* Qual a nacionalidade menos frequente?\n",
    "* Com qual idade, em média, os pilotos conquistam seu primeiro campeonato?\n",
    "* Após quantos GPs, em média, um piloto consegue sua primeira vitória?\n",
    "* Após quantos GPs, em média, um piloto consegue seu primeiro pódio?\n",
    "* Qual piloto sofreu mais acidentes na história?\n",
    "* Qual piloto mais venceu corridas em que não conquistou pole position?\n",
    "* Qual piloto teve mais construtores?"
   ]
  },
  {
   "cell_type": "code",
   "execution_count": 4,
   "id": "02ee7395",
   "metadata": {},
   "outputs": [
    {
     "name": "stdout",
     "output_type": "stream",
     "text": [
      "Index(['driverId', 'driverRef', 'number', 'code', 'forename', 'surname', 'dob',\n",
      "       'nationality', 'url'],\n",
      "      dtype='object')\n"
     ]
    }
   ],
   "source": [
    "drivers = pd.read_csv(DRIVERS)\n",
    "print(drivers.columns)"
   ]
  },
  {
   "cell_type": "code",
   "execution_count": 5,
   "id": "ccd47f10",
   "metadata": {},
   "outputs": [
    {
     "data": {
      "text/html": [
       "<div>\n",
       "<style scoped>\n",
       "    .dataframe tbody tr th:only-of-type {\n",
       "        vertical-align: middle;\n",
       "    }\n",
       "\n",
       "    .dataframe tbody tr th {\n",
       "        vertical-align: top;\n",
       "    }\n",
       "\n",
       "    .dataframe thead th {\n",
       "        text-align: right;\n",
       "    }\n",
       "</style>\n",
       "<table border=\"1\" class=\"dataframe\">\n",
       "  <thead>\n",
       "    <tr style=\"text-align: right;\">\n",
       "      <th></th>\n",
       "      <th>driverId</th>\n",
       "      <th>driverRef</th>\n",
       "      <th>number</th>\n",
       "      <th>code</th>\n",
       "      <th>forename</th>\n",
       "      <th>surname</th>\n",
       "      <th>dob</th>\n",
       "      <th>nationality</th>\n",
       "      <th>url</th>\n",
       "    </tr>\n",
       "  </thead>\n",
       "  <tbody>\n",
       "    <tr>\n",
       "      <th>0</th>\n",
       "      <td>1</td>\n",
       "      <td>hamilton</td>\n",
       "      <td>44</td>\n",
       "      <td>HAM</td>\n",
       "      <td>Lewis</td>\n",
       "      <td>Hamilton</td>\n",
       "      <td>1985-01-07</td>\n",
       "      <td>British</td>\n",
       "      <td>http://en.wikipedia.org/wiki/Lewis_Hamilton</td>\n",
       "    </tr>\n",
       "    <tr>\n",
       "      <th>1</th>\n",
       "      <td>2</td>\n",
       "      <td>heidfeld</td>\n",
       "      <td>\\N</td>\n",
       "      <td>HEI</td>\n",
       "      <td>Nick</td>\n",
       "      <td>Heidfeld</td>\n",
       "      <td>1977-05-10</td>\n",
       "      <td>German</td>\n",
       "      <td>http://en.wikipedia.org/wiki/Nick_Heidfeld</td>\n",
       "    </tr>\n",
       "    <tr>\n",
       "      <th>2</th>\n",
       "      <td>3</td>\n",
       "      <td>rosberg</td>\n",
       "      <td>6</td>\n",
       "      <td>ROS</td>\n",
       "      <td>Nico</td>\n",
       "      <td>Rosberg</td>\n",
       "      <td>1985-06-27</td>\n",
       "      <td>German</td>\n",
       "      <td>http://en.wikipedia.org/wiki/Nico_Rosberg</td>\n",
       "    </tr>\n",
       "    <tr>\n",
       "      <th>3</th>\n",
       "      <td>4</td>\n",
       "      <td>alonso</td>\n",
       "      <td>14</td>\n",
       "      <td>ALO</td>\n",
       "      <td>Fernando</td>\n",
       "      <td>Alonso</td>\n",
       "      <td>1981-07-29</td>\n",
       "      <td>Spanish</td>\n",
       "      <td>http://en.wikipedia.org/wiki/Fernando_Alonso</td>\n",
       "    </tr>\n",
       "    <tr>\n",
       "      <th>4</th>\n",
       "      <td>5</td>\n",
       "      <td>kovalainen</td>\n",
       "      <td>\\N</td>\n",
       "      <td>KOV</td>\n",
       "      <td>Heikki</td>\n",
       "      <td>Kovalainen</td>\n",
       "      <td>1981-10-19</td>\n",
       "      <td>Finnish</td>\n",
       "      <td>http://en.wikipedia.org/wiki/Heikki_Kovalainen</td>\n",
       "    </tr>\n",
       "  </tbody>\n",
       "</table>\n",
       "</div>"
      ],
      "text/plain": [
       "   driverId   driverRef number code  forename     surname         dob  \\\n",
       "0         1    hamilton     44  HAM     Lewis    Hamilton  1985-01-07   \n",
       "1         2    heidfeld     \\N  HEI      Nick    Heidfeld  1977-05-10   \n",
       "2         3     rosberg      6  ROS      Nico     Rosberg  1985-06-27   \n",
       "3         4      alonso     14  ALO  Fernando      Alonso  1981-07-29   \n",
       "4         5  kovalainen     \\N  KOV    Heikki  Kovalainen  1981-10-19   \n",
       "\n",
       "  nationality                                             url  \n",
       "0     British     http://en.wikipedia.org/wiki/Lewis_Hamilton  \n",
       "1      German      http://en.wikipedia.org/wiki/Nick_Heidfeld  \n",
       "2      German       http://en.wikipedia.org/wiki/Nico_Rosberg  \n",
       "3     Spanish    http://en.wikipedia.org/wiki/Fernando_Alonso  \n",
       "4     Finnish  http://en.wikipedia.org/wiki/Heikki_Kovalainen  "
      ]
     },
     "execution_count": 5,
     "metadata": {},
     "output_type": "execute_result"
    }
   ],
   "source": [
    "drivers.head()"
   ]
  },
  {
   "cell_type": "code",
   "execution_count": 19,
   "id": "42aad615",
   "metadata": {},
   "outputs": [
    {
     "data": {
      "text/plain": [
       "British              165\n",
       "American             157\n",
       "Italian               99\n",
       "French                73\n",
       "German                50\n",
       "Brazilian             32\n",
       "Argentine             24\n",
       "Swiss                 23\n",
       "South African         23\n",
       "Belgian               23\n",
       "Japanese              20\n",
       "Australian            17\n",
       "Dutch                 17\n",
       "Spanish               15\n",
       "Austrian              15\n",
       "Canadian              14\n",
       "Swedish               10\n",
       "New Zealander          9\n",
       "Finnish                9\n",
       "Mexican                6\n",
       "Danish                 5\n",
       "Irish                  5\n",
       "Monegasque             4\n",
       "Russian                4\n",
       "Uruguayan              4\n",
       "Rhodesian              4\n",
       "Portuguese             4\n",
       "Colombian              3\n",
       "Venezuelan             3\n",
       "East German            3\n",
       "Indian                 2\n",
       "Thai                   2\n",
       "Malaysian              1\n",
       "Liechtensteiner        1\n",
       "Chilean                1\n",
       "Polish                 1\n",
       "Hungarian              1\n",
       "Indonesian             1\n",
       "Czech                  1\n",
       "Argentine-Italian      1\n",
       "American-Italian       1\n",
       "Name: nationality, dtype: int64"
      ]
     },
     "execution_count": 19,
     "metadata": {},
     "output_type": "execute_result"
    }
   ],
   "source": [
    "drivers.nationality.value_counts()"
   ]
  },
  {
   "cell_type": "code",
   "execution_count": 10,
   "id": "30bc823c",
   "metadata": {},
   "outputs": [
    {
     "data": {
      "text/plain": [
       "853"
      ]
     },
     "execution_count": 10,
     "metadata": {},
     "output_type": "execute_result"
    }
   ],
   "source": [
    "len(drivers)"
   ]
  }
 ],
 "metadata": {
  "kernelspec": {
   "display_name": "Python 3",
   "language": "python",
   "name": "python3"
  },
  "language_info": {
   "codemirror_mode": {
    "name": "ipython",
    "version": 3
   },
   "file_extension": ".py",
   "mimetype": "text/x-python",
   "name": "python",
   "nbconvert_exporter": "python",
   "pygments_lexer": "ipython3",
   "version": "3.8.8"
  }
 },
 "nbformat": 4,
 "nbformat_minor": 5
}
